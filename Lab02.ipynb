{
  "cells": [
    {
      "attachments": {},
      "cell_type": "markdown",
      "metadata": {
        "id": "l7Neg32qlqKi"
      },
      "source": [
        "**Instructions to Follow (Failing to follow these will result mark penalties).**\n",
        "\n",
        "\n",
        "1.   You can not use any built-in function except len()\n",
        "2.   You can not use any other python collections except array (e.g: tuptle, dictionaries etc.). \n",
        "3. We will initialize a new array using numpy library. We have to mention the fixed size during initialization. There might be two approach.\n",
        "\n",
        "  i. arr = np.zeros((10), dtype = int) #Initializing an array length 10 with values 0\n",
        "\n",
        "  ii. arr = np.array([10, 20, 30, 40]) #Initializing an array length 4 with the values.\n",
        "4. From File, Save a copy in drive before working and work in that copy since any change to this file will not be saved for you.\n",
        "\n",
        "\n",
        "\n",
        "\n"
      ]
    },
    {
      "cell_type": "code",
      "execution_count": 2,
      "metadata": {
        "colab": {
          "base_uri": "https://localhost:8080/"
        },
        "id": "1fdSwhC1lman",
        "outputId": "fb12c14a-44e1-43a4-ebef-c2db242d00dc"
      },
      "outputs": [
        {
          "name": "stdout",
          "output_type": "stream",
          "text": [
            "Requirement already satisfied: fhm-unittest in /Library/Frameworks/Python.framework/Versions/3.11/lib/python3.11/site-packages (1.0.1)\n",
            "Requirement already satisfied: fuzzywuzzy in /Library/Frameworks/Python.framework/Versions/3.11/lib/python3.11/site-packages (0.18.0)\n"
          ]
        }
      ],
      "source": [
        "# You must run this cell to install dependency\n",
        "! pip3 install fhm-unittest\n",
        "! pip3 install fuzzywuzzy\n",
        "import fhm_unittest as unittest\n",
        "import numpy as np"
      ]
    },
    {
      "cell_type": "code",
      "execution_count": 3,
      "metadata": {
        "id": "s1d8VpMcmAYI"
      },
      "outputs": [],
      "source": [
        "#You must run this cell to print matrix and for the driver code to work\n",
        "def print_matrix(m):\n",
        "  row,col = m.shape\n",
        "  for i in range(row):\n",
        "    c = 1\n",
        "    print('|', end='')\n",
        "    for j in range(col):\n",
        "      c += 1\n",
        "      if(len(str(m[i][j])) == 1):\n",
        "        print(' ',m[i][j], end = '  |')\n",
        "        c += 6\n",
        "      else:\n",
        "        print(' ',m[i][j], end = ' |')\n",
        "        c += 6\n",
        "    print()\n",
        "    print('-'*(c-col))"
      ]
    },
    {
      "attachments": {},
      "cell_type": "markdown",
      "metadata": {
        "id": "Q2LBZRlumbFr"
      },
      "source": [
        "Task 1: Zigzag Walk"
      ]
    },
    {
      "cell_type": "code",
      "execution_count": 4,
      "metadata": {
        "colab": {
          "base_uri": "https://localhost:8080/"
        },
        "id": "_F8YAVawmMwC",
        "outputId": "aa8393f3-a54d-4b98-8d17-20b06ddeea7e"
      },
      "outputs": [
        {
          "name": "stdout",
          "output_type": "stream",
          "text": [
            "|  3W |  8B |  4W |  6B |  1W |  5B |\n",
            "-------------------------------------\n",
            "|  3B |  2W |  1B |  6W |  3B |  8W |\n",
            "-------------------------------------\n",
            "|  9W |  0B |  7W |  5B |  3W |  8B |\n",
            "-------------------------------------\n",
            "|  2B |  1W |  3B |  6W |  0B |  4W |\n",
            "-------------------------------------\n",
            "|  1W |  4B |  2W |  8B |  6W |  6B |\n",
            "-------------------------------------\n",
            "Walking Sequence:\n",
            "3W 4W 1W \n",
            "8W 6W 2W \n",
            "9W 7W 3W \n",
            "4W 6W 1W \n",
            "1W 2W 6W \n"
          ]
        }
      ],
      "source": [
        "def walk_zigzag(floor):\n",
        "  r,c = floor.shape\n",
        "  for i in range(r):\n",
        "    if i % 2 != 0:\n",
        "      for j in range(c-1,-1,-1):\n",
        "        if floor[i,j][1] == 'W':\n",
        "          print(floor[i,j], end = \" \")\n",
        "    else:\n",
        "      for j in range(c):\n",
        "        if floor[i,j][1] == 'W':\n",
        "          print(floor[i,j], end = \" \")\n",
        "    print()\n",
        "\n",
        "\n",
        "\n",
        "floor = np.array([[ '3W' , '8B' , '4W' , '6B' , '1W' , '5B'],['3B' , '2W' , '1B' , '6W' , '3B' , '8W'],\n",
        "                  ['9W' , '0B' , '7W' , '5B' , '3W' , '8B'],['2B' , '1W' , '3B' , '6W' , '0B' , '4W'],\n",
        "                   ['1W' , '4B' , '2W' , '8B' , '6W' , '6B']])\n",
        "print_matrix(floor)\n",
        "print('Walking Sequence:')\n",
        "walk_zigzag(floor)\n",
        "#This should print\n",
        "# 3W 4W 1W \n",
        "# 8W 6W 2W \n",
        "# 9W 7W 3W \n",
        "# 4W 6W 1W \n",
        "# 1W 2W 6W\n"
      ]
    },
    {
      "attachments": {},
      "cell_type": "markdown",
      "metadata": {
        "id": "XP-y7UlNm3BY"
      },
      "source": [
        "Task 2: Landscape Screen"
      ]
    },
    {
      "cell_type": "code",
      "execution_count": 5,
      "metadata": {
        "colab": {
          "base_uri": "https://localhost:8080/"
        },
        "id": "3LQXKBz3mUkj",
        "outputId": "0403ff3d-9689-4cd5-f5b8-00a90355c6fa"
      },
      "outputs": [
        {
          "name": "stdout",
          "output_type": "stream",
          "text": [
            "|  1  |  7  |  13 |\n",
            "-------------------\n",
            "|  11 |  1  |  8  |\n",
            "-------------------\n",
            "|  9  |  13 |  7  |\n",
            "-------------------\n",
            "|  1  |  13 |  4  |\n",
            "-------------------\n",
            "\n",
            "|  1  |  11 |  9  |  1  |\n",
            "-------------------------\n",
            "|  7  |  1  |  13 |  13 |\n",
            "-------------------------\n",
            "|  13 |  8  |  7  |  4  |\n",
            "-------------------------\n"
          ]
        }
      ],
      "source": [
        "def landscape(m):\n",
        "  r,c = m.shape\n",
        "  arr = np.zeros((c,r),dtype= int)\n",
        "\n",
        "  row = 0\n",
        "  for i in range(c):\n",
        "    column = 0\n",
        "    for j in range(r):\n",
        "      arr[row,column] = m[j,i]\n",
        "      column += 1\n",
        "    row += 1\n",
        "  return arr\n",
        "\n",
        "\n",
        "m = np.random.randint(15,size=(4,3)) #This creates an np array of 4 x 3 where the values are random numbers from [0,15) range\n",
        "print_matrix(m)\n",
        "print()\n",
        "print_matrix(landscape(m))"
      ]
    },
    {
      "attachments": {},
      "cell_type": "markdown",
      "metadata": {
        "id": "piw0POuVna4_"
      },
      "source": [
        "Task 3: Seating Arrangement"
      ]
    },
    {
      "cell_type": "code",
      "execution_count": 6,
      "metadata": {
        "colab": {
          "base_uri": "https://localhost:8080/"
        },
        "id": "H4EDQCTfnes7",
        "outputId": "8b2c2006-3da0-4387-8755-df5265698a36"
      },
      "outputs": [
        {
          "name": "stdout",
          "output_type": "stream",
          "text": [
            "|  7  |  13 |  9  |  14 |\n",
            "-------------------------\n",
            "|  12 |  8  |  15 |  11 |\n",
            "-------------------------\n",
            "|  10 |  17 |  3  |  2  |\n",
            "-------------------------\n",
            "|  15 |  10 |  1  |  4  |\n",
            "-------------------------\n",
            "\n",
            "False\n",
            "Accepted\n"
          ]
        }
      ],
      "source": [
        "def arrangement(m, diff):\n",
        "  r,c = m.shape\n",
        "  min = 0\n",
        "  flag = True\n",
        "  if r >= c:\n",
        "    min = c\n",
        "  else:\n",
        "    min = r\n",
        "  for i in range(min-1):\n",
        "    if m[i,i+1] >= m[i+1,i]:\n",
        "      flag = (m[i,i+1] -  m[i+1,i] == diff)\n",
        "    else:\n",
        "      flag =  (m[i+1,i] - m[i,i+1] == diff)\n",
        "    if flag == False:\n",
        "      break\n",
        "  return flag\n",
        "  \n",
        "\n",
        "m = np.array([[7,13,9,14],[12,8,15,11],[10,17,3,2],[15,10,1,4]])\n",
        "print_matrix(m)\n",
        "print()\n",
        "returned_value = arrangement(m,1) \n",
        "print(returned_value)#This should print False\n",
        "unittest.output_test(returned_value, False)"
      ]
    },
    {
      "attachments": {},
      "cell_type": "markdown",
      "metadata": {
        "id": "dULlGfSWoa_-"
      },
      "source": [
        "Task 4: Chess Piece"
      ]
    },
    {
      "cell_type": "code",
      "execution_count": 12,
      "metadata": {
        "colab": {
          "base_uri": "https://localhost:8080/"
        },
        "id": "CXu8BAjWn6IN",
        "outputId": "3c4f5c08-10bd-4be8-cbf4-269a8a2d1d30"
      },
      "outputs": [
        {
          "name": "stdout",
          "output_type": "stream",
          "text": [
            "|  0  |  0  |  0  |  0  |  0  |  0  |  0  |  0  |\n",
            "-------------------------------------------------\n",
            "|  0  |  0  |  0  |  3  |  0  |  3  |  0  |  0  |\n",
            "-------------------------------------------------\n",
            "|  0  |  0  |  3  |  0  |  0  |  0  |  3  |  0  |\n",
            "-------------------------------------------------\n",
            "|  0  |  0  |  0  |  0  |  33 |  0  |  0  |  0  |\n",
            "-------------------------------------------------\n",
            "|  0  |  0  |  3  |  0  |  0  |  0  |  3  |  0  |\n",
            "-------------------------------------------------\n",
            "|  0  |  0  |  0  |  3  |  0  |  3  |  0  |  0  |\n",
            "-------------------------------------------------\n",
            "|  0  |  0  |  0  |  0  |  0  |  0  |  0  |  0  |\n",
            "-------------------------------------------------\n",
            "|  0  |  0  |  0  |  0  |  0  |  0  |  0  |  0  |\n",
            "-------------------------------------------------\n"
          ]
        }
      ],
      "source": [
        "def show_knight_move(knight):\n",
        "  r,c = knight\n",
        "  board = np.zeros((8,8),dtype = int)\n",
        "  board[r,c] = 33\n",
        "  if r - 2 >= 0 and c +1 < 8: #Up-right\n",
        "    board[r -2, c +1] = 3\n",
        "  if r -2 >= 0 and c -1 >= 0:#Up-left\n",
        "    board[r-2, c-1] = 3\n",
        "  if r +2 < 8 and c + 1 < 8:#Down-right\n",
        "    board[r +2, c+1] = 3\n",
        "  if r +2 < 8 and c-1 >=0:#Down-left\n",
        "    board[r+2, c-1] = 3\n",
        "  if r - 1 >= 0 and c +2 < 8: #Up-right\n",
        "    board[r -1, c +2]  = 3\n",
        "  if r -1 >= 0 and c -2 >= 0:#Up-left\n",
        "    board[r-1, c-2] = 3\n",
        "  if r +1 < 8 and c + 2 < 8:#Down-right\n",
        "    board[r +1, c+2] = 3\n",
        "  if r +1 < 8 and c-2 >=0:#Down-left\n",
        "    board[r+1, c-2] = 3\n",
        "  return board\n",
        "\n",
        "\n",
        "knight = (3,4)\n",
        "chess_board = show_knight_move(knight)\n",
        "print_matrix(chess_board)"
      ]
    },
    {
      "cell_type": "code",
      "execution_count": 10,
      "metadata": {},
      "outputs": [
        {
          "name": "stdout",
          "output_type": "stream",
          "text": [
            "|  0  |  0  |  0  |  0  |  0  |  0  |  0  |  0  |\n",
            "-------------------------------------------------\n",
            "|  0  |  0  |  0  |  0  |  0  |  0  |  0  |  0  |\n",
            "-------------------------------------------------\n",
            "|  0  |  0  |  0  |  0  |  0  |  0  |  0  |  0  |\n",
            "-------------------------------------------------\n",
            "|  0  |  0  |  0  |  0  |  0  |  0  |  0  |  0  |\n",
            "-------------------------------------------------\n",
            "|  0  |  0  |  0  |  0  |  0  |  0  |  0  |  0  |\n",
            "-------------------------------------------------\n",
            "|  0  |  0  |  0  |  0  |  0  |  0  |  3  |  0  |\n",
            "-------------------------------------------------\n",
            "|  0  |  0  |  0  |  0  |  0  |  3  |  0  |  0  |\n",
            "-------------------------------------------------\n",
            "|  0  |  0  |  0  |  0  |  0  |  0  |  0  |  33 |\n",
            "-------------------------------------------------\n"
          ]
        }
      ],
      "source": [
        "#Task 4 [Using array]\n",
        "def show_knight_move(knight):\n",
        "    r,c = knight\n",
        "    board = np.zeros((8,8),dtype = int)\n",
        "    board[r,c] = 33\n",
        "    x = np.array([2,2,1,1,-1,-1,-2,-2])\n",
        "    y = np.array([1,-1,2,-2,-2,2,1,-1])\n",
        "    for i in range(8):\n",
        "        if 0 <= r + x[i] < 8 and 0 <= c + y[i] < 8:\n",
        "            board[r + x[i],c + y[i]] = 3\n",
        "    return board\n",
        "\n",
        "knight = (7,7)\n",
        "chess_board = show_knight_move(knight)\n",
        "print_matrix(chess_board)"
      ]
    },
    {
      "attachments": {},
      "cell_type": "markdown",
      "metadata": {
        "id": "Dox4AStYo8Xk"
      },
      "source": [
        "Bonus Task"
      ]
    },
    {
      "cell_type": "code",
      "execution_count": 8,
      "metadata": {
        "colab": {
          "base_uri": "https://localhost:8080/"
        },
        "id": "AvzKs7wnoraw",
        "outputId": "850a0008-d2dd-42b0-e08d-e95f37814632"
      },
      "outputs": [
        {
          "name": "stdout",
          "output_type": "stream",
          "text": [
            "|  0  |  0  |  0  |  0  |  0  |  0  |  0  |  0  |\n",
            "-------------------------------------------------\n",
            "|  0  |  0  |  0  |  0  |  0  |  0  |  0  |  0  |\n",
            "-------------------------------------------------\n",
            "|  0  |  0  |  0  |  0  |  0  |  0  |  0  |  0  |\n",
            "-------------------------------------------------\n",
            "|  0  |  0  |  0  |  0  |  0  |  3  |  0  |  3  |\n",
            "-------------------------------------------------\n",
            "|  0  |  0  |  0  |  0  |  3  |  0  |  0  |  0  |\n",
            "-------------------------------------------------\n",
            "|  0  |  5  |  0  |  0  |  0  |  0  |  33 |  0  |\n",
            "-------------------------------------------------\n",
            "|  0  |  0  |  0  |  0  |  3  |  0  |  0  |  0  |\n",
            "-------------------------------------------------\n",
            "|  0  |  0  |  0  |  0  |  0  |  3  |  0  |  3  |\n",
            "-------------------------------------------------\n",
            "Rook can kill\n"
          ]
        }
      ],
      "source": [
        "def knightCheck(board,knight,rook):\n",
        "    r,c = knight\n",
        "    board = np.zeros((8,8),dtype = int)\n",
        "    board[r,c] = 33\n",
        "    x = np.array([2,2,1,1,-1,-1,-2,-2])\n",
        "    y = np.array([1,-1,2,-2,-2,2,1,-1])\n",
        "    for i in range(8):\n",
        "        if 0 <= r + x[i] < 8 and 0 <= c + y[i] < 8:\n",
        "            board[r + x[i],c + y[i]] = 3\n",
        "    r1,c1 = rook\n",
        "    return (board,board[r1,c1] == 3)\n",
        "\n",
        "def rookCheck(board,knight,rook):\n",
        "    r,c = rook\n",
        "    for i in range(8):\n",
        "      if board[i,c] == 33:\n",
        "        return True\n",
        "    for j in range(8):\n",
        "      if board[r,j] == 33:\n",
        "        return True\n",
        "    return False\n",
        "\n",
        "    \n",
        "def topple(knight,rook):\n",
        "  board = np.zeros((8,8),dtype = int)\n",
        "  r,c = knight\n",
        "  r1,c1= rook\n",
        "  board[r,c] = 33\n",
        "  board,kflag = knightCheck(board,knight,rook)\n",
        "  board[r1,c1] = 5\n",
        "  rflag = rookCheck(board,knight,rook)\n",
        "  str1 = ''\n",
        "  if rflag == False and kflag == False:\n",
        "    str1 = 'Cannot kill'\n",
        "  if rflag == True and kflag == False:\n",
        "    str1 = 'Rook can kill'\n",
        "  if rflag == False and kflag == True:\n",
        "    str1 = 'Knight can kill'\n",
        "  if rflag == True and kflag == True:\n",
        "    str1 = 'Both can kill'\n",
        "  return (board,str1)\n",
        "  \n",
        "\n",
        "\n",
        "knight = (5,6)\n",
        "rook = (5,1)\n",
        "chess_board, ans = topple(knight,rook)\n",
        "print_matrix(chess_board)\n",
        "print(ans) #This should print Rook can kill"
      ]
    }
  ],
  "metadata": {
    "colab": {
      "provenance": []
    },
    "kernelspec": {
      "display_name": "Python 3",
      "name": "python3"
    },
    "language_info": {
      "codemirror_mode": {
        "name": "ipython",
        "version": 3
      },
      "file_extension": ".py",
      "mimetype": "text/x-python",
      "name": "python",
      "nbconvert_exporter": "python",
      "pygments_lexer": "ipython3",
      "version": "3.11.3"
    }
  },
  "nbformat": 4,
  "nbformat_minor": 0
}
