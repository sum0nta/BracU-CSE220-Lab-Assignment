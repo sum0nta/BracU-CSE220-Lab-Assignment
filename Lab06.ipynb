{
  "cells": [
    {
      "cell_type": "code",
      "execution_count": null,
      "metadata": {
        "colab": {
          "base_uri": "https://localhost:8080/"
        },
        "id": "rKuHIP3fUJem",
        "outputId": "019b868d-b1a4-4dd7-bc3b-cf9cc1235921"
      },
      "outputs": [
        {
          "name": "stdout",
          "output_type": "stream",
          "text": [
            "720\n"
          ]
        }
      ],
      "source": [
        "def factorial(n):\n",
        "  if n == 0 or n == 1:\n",
        "    return 1\n",
        "  else:\n",
        "    return n * factorial(n-1)\n",
        "\n",
        "print(factorial(6))"
      ]
    },
    {
      "cell_type": "code",
      "execution_count": null,
      "metadata": {
        "colab": {
          "base_uri": "https://localhost:8080/"
        },
        "id": "q7mYRK2OU5WI",
        "outputId": "c2451862-9316-4a13-842b-79fe97c341bf"
      },
      "outputs": [
        {
          "name": "stdout",
          "output_type": "stream",
          "text": [
            "13\n"
          ]
        }
      ],
      "source": [
        "def fib(n):\n",
        "  if n == 0:\n",
        "    return 0\n",
        "  if n == 1:\n",
        "    return 1\n",
        "  else:\n",
        "    return fib(n-1) + fib(n-2)\n",
        "\n",
        "print(fib(7))"
      ]
    },
    {
      "cell_type": "code",
      "execution_count": null,
      "metadata": {
        "colab": {
          "base_uri": "https://localhost:8080/"
        },
        "id": "-XHnM1r1VSLf",
        "outputId": "598b06e9-442a-46e2-bd83-76e0c09327a3"
      },
      "outputs": [
        {
          "name": "stdout",
          "output_type": "stream",
          "text": [
            "1\n",
            "2\n",
            "3\n",
            "4\n"
          ]
        }
      ],
      "source": [
        "def printArr(arr,i):\n",
        "  if i >= len(arr):\n",
        "    return\n",
        "  else:\n",
        "    print(arr[i])\n",
        "    printArr(arr,i+1)\n",
        "x = [1,2,3,4]\n",
        "\n",
        "printArr(x,0)"
      ]
    },
    {
      "cell_type": "code",
      "execution_count": null,
      "metadata": {
        "colab": {
          "base_uri": "https://localhost:8080/"
        },
        "id": "7hLa7hwaWmkX",
        "outputId": "8e4bd111-6c56-4ceb-f65c-c18f3a83b66f"
      },
      "outputs": [
        {
          "name": "stdout",
          "output_type": "stream",
          "text": [
            "3\n"
          ]
        }
      ],
      "source": [
        "def powerN(num,base):\n",
        "  if base > 0:\n",
        "    return num * powerN(num,base-1)\n",
        "  else:\n",
        "    return 1\n",
        "\n",
        "print(powerN(3,1))"
      ]
    },
    {
      "cell_type": "code",
      "execution_count": null,
      "metadata": {
        "colab": {
          "base_uri": "https://localhost:8080/",
          "height": 35
        },
        "id": "HBbteFXEYhxO",
        "outputId": "e4e19fc6-5bb6-4a66-8d71-0fefe215947b"
      },
      "outputs": [
        {
          "data": {
            "application/vnd.google.colaboratory.intrinsic+json": {
              "type": "string"
            },
            "text/plain": [
              "'1010001'"
            ]
          },
          "execution_count": 43,
          "metadata": {},
          "output_type": "execute_result"
        }
      ],
      "source": [
        "def binary_converter(dec):\n",
        "  if dec > 0:\n",
        "    rem = dec % 2\n",
        "    dec = dec//2\n",
        "    return str(binary_converter(dec)) + str(rem)\n",
        "  else:\n",
        "    return ''\n",
        "\n",
        "binary_converter(81)"
      ]
    },
    {
      "cell_type": "code",
      "execution_count": null,
      "metadata": {
        "id": "jWIIfsJ3coQQ"
      },
      "outputs": [],
      "source": [
        "class Node:\n",
        "    def __init__(self, element, next=None):\n",
        "        self.element = element\n",
        "        self.next = next\n",
        "\n",
        "class Linked_List:\n",
        "    def __init__(self):\n",
        "        self.head = None\n",
        "    def insert(self, value):\n",
        "        if self.head == None:\n",
        "            self.head = Node(value, None)\n",
        "            return\n",
        "        temp = self.head\n",
        "        while temp.next != None:\n",
        "            temp = temp.next\n",
        "        n = Node(value)\n",
        "        temp.next = n\n",
        "    def print_list(self):\n",
        "        temp = self.head\n",
        "        while temp!= None:\n",
        "            print(temp.element)\n",
        "            temp = temp.next\n",
        "    def add_element(self, head):\n",
        "      if head != None:\n",
        "        return head.element + self.add_element(head.next)\n",
        "      else:\n",
        "        return 0\n",
        "    def print_reverse(self, head):\n",
        "      if head != None:\n",
        "        self.print_reverse(head.next)\n",
        "        print(head.element)\n",
        "\n"
      ]
    },
    {
      "cell_type": "code",
      "execution_count": null,
      "metadata": {
        "colab": {
          "base_uri": "https://localhost:8080/"
        },
        "id": "AcCxZrRjcSSB",
        "outputId": "6782cea7-6316-49de-da24-dedc5adfc3c4"
      },
      "outputs": [
        {
          "name": "stdout",
          "output_type": "stream",
          "text": [
            "\n",
            "Printing the linked list:\n",
            "10\n",
            "20\n",
            "30\n",
            "40\n",
            "\n",
            "Sum of the element:\n",
            "100\n",
            "\n",
            "Printing the linked list in reverse order:\n",
            "40\n",
            "30\n",
            "20\n",
            "10\n"
          ]
        }
      ],
      "source": [
        "lst = Linked_List()\n",
        "lst.insert(10)\n",
        "lst.insert(20)\n",
        "lst.insert(30)\n",
        "lst.insert(40)\n",
        "print(\"\\nPrinting the linked list:\")\n",
        "lst.print_list()\n",
        "\n",
        "# Problem (b)\n",
        "print(\"\\nSum of the element:\")\n",
        "total = lst.add_element(lst.head)\n",
        "print(total)   # This should print 100\n",
        "\n",
        "# Problem (b)\n",
        "print(\"\\nPrinting the linked list in reverse order:\")\n",
        "lst.print_reverse(lst.head)\n",
        "# This should print\n",
        "# 40\n",
        "# 30\n",
        "# 20\n",
        "# 10"
      ]
    },
    {
      "cell_type": "code",
      "execution_count": null,
      "metadata": {
        "colab": {
          "base_uri": "https://localhost:8080/"
        },
        "id": "0kafD_gTh_1R",
        "outputId": "310c1c54-5286-4e1a-e9c1-891741ef24ec"
      },
      "outputs": [
        {
          "data": {
            "text/plain": [
              "18"
            ]
          },
          "execution_count": 59,
          "metadata": {},
          "output_type": "execute_result"
        }
      ],
      "source": [
        "def hocBuilder(height):\n",
        "  if height == 0:\n",
        "    return 0\n",
        "  if height == 1:\n",
        "    return 8\n",
        "  else:\n",
        "    return 5 + hocBuilder(height-1)\n",
        "\n",
        "hocBuilder(3)"
      ]
    },
    {
      "cell_type": "code",
      "execution_count": null,
      "metadata": {},
      "outputs": [],
      "source": [
        "'''NOT COMPLETE '''\n",
        "def printRec(n):\n",
        "  if n == 1:\n",
        "    print(str(n))\n",
        "    return n\n",
        "  else:\n",
        "    printRec(n-1)\n",
        "    return str(printRec(n-1)) + str(printRec(n)+1)\n",
        "\n",
        "\n",
        "\n",
        "printRec(4)"
      ]
    },
    {
      "cell_type": "code",
      "execution_count": null,
      "metadata": {
        "colab": {
          "base_uri": "https://localhost:8080/"
        },
        "id": "7liqSShvmrwt",
        "outputId": "bf1c28dd-2251-4027-a7d6-2b32cae8b206"
      },
      "outputs": [
        {
          "name": "stdout",
          "output_type": "stream",
          "text": [
            "Investment : 25000; Profit: 0.0\n",
            "Investment : 100000; Profit: 3375.0\n",
            "Investment : 250000; Profit: 15375.0\n",
            "Investment : 350000; Profit: 23375.0\n"
          ]
        }
      ],
      "source": [
        "class FinalQ:\n",
        "  def print(self,array,idx):\n",
        "    if(idx<len(array)):\n",
        "      profit = self.calcProfit(array[idx])\n",
        "      print(f\"Investment : {array[idx]}; Profit: {profit}\")\n",
        "      self.print(array,idx+1)\n",
        "  def calcProfit(self,investment):\n",
        "    if investment <= 25000:\n",
        "      return 0.0\n",
        "    elif investment == 100000:\n",
        "      return 75000 * 0.045\n",
        "    elif investment > 100000:\n",
        "      return self.calcProfit(100000) + ((investment - 100000) * 0.08)\n",
        "\n",
        "\n",
        "#Tester\n",
        "array=[25000,100000,250000,350000]\n",
        "f = FinalQ()\n",
        "f.print(array,0)"
      ]
    },
    {
      "cell_type": "code",
      "execution_count": 6,
      "metadata": {
        "colab": {
          "base_uri": "https://localhost:8080/"
        },
        "id": "zE3klzampwNC",
        "outputId": "653ae54e-2b78-47f2-c13c-121fd8fc91df"
      },
      "outputs": [
        {
          "name": "stdout",
          "output_type": "stream",
          "text": [
            "[1, 2, 3, 4, 5, 6, 7, 8, 9, 10, 11, 12, 13, 14, 15, 16, 17]\n"
          ]
        }
      ],
      "source": [
        "def flattenList(given_list,output_list):\n",
        "    if len(given_list) == 0:\n",
        "      return output_list\n",
        "    elif type(given_list[0]) == list:\n",
        "      return flattenList(given_list[0],[]) + flattenList(given_list[1:],[])\n",
        "    else:\n",
        "      return [given_list[0]] + flattenList(given_list[1:],[])\n",
        "\n",
        "given_list = [1, [2, [3, [4], 5], 6], 7, 8, [9, [[10, 11], 12], 13], 14, [15, [16, [17]]]]\n",
        "\n",
        "output_list = flattenList(given_list,[])\n",
        "print(output_list)"
      ]
    }
  ],
  "metadata": {
    "colab": {
      "provenance": []
    },
    "kernelspec": {
      "display_name": "Python 3",
      "name": "python3"
    },
    "language_info": {
      "name": "python"
    }
  },
  "nbformat": 4,
  "nbformat_minor": 0
}
