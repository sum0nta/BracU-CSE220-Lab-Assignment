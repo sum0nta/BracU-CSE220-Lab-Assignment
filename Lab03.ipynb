{
  "cells": [
    {
      "attachments": {},
      "cell_type": "markdown",
      "metadata": {
        "id": "NiUM_IVAgFmb"
      },
      "source": [
        "***You must run this cell to install dependency***"
      ]
    },
    {
      "cell_type": "code",
      "execution_count": 2,
      "metadata": {
        "colab": {
          "base_uri": "https://localhost:8080/"
        },
        "id": "zES7ud9gf695",
        "outputId": "e636e130-ba58-46a3-ec23-221971bb129f"
      },
      "outputs": [
        {
          "name": "stdout",
          "output_type": "stream",
          "text": [
            "Requirement already satisfied: fhm-unittest in /Library/Frameworks/Python.framework/Versions/3.11/lib/python3.11/site-packages (1.0.1)\n",
            "Requirement already satisfied: fuzzywuzzy in /Library/Frameworks/Python.framework/Versions/3.11/lib/python3.11/site-packages (0.18.0)\n"
          ]
        }
      ],
      "source": [
        "# You must run this cell to install dependency\n",
        "! pip3 install fhm-unittest\n",
        "! pip3 install fuzzywuzzy\n",
        "import fhm_unittest as unittest\n",
        "import numpy as np"
      ]
    },
    {
      "attachments": {},
      "cell_type": "markdown",
      "metadata": {
        "id": "fdEbakalfuRC"
      },
      "source": [
        " ***You must Run this cell for your driver code to execute successfully***"
      ]
    },
    {
      "cell_type": "code",
      "execution_count": 4,
      "metadata": {
        "id": "mxEckgR4fqt8"
      },
      "outputs": [],
      "source": [
        "#Run this cell\n",
        "class Node:\n",
        "  def __init__(self,elem,next = None):\n",
        "    self.elem,self.next = elem,next\n",
        "\n",
        "def createList(arr):\n",
        "  head = Node(arr[0])\n",
        "  tail = head\n",
        "  for i in range(1,len(arr)):\n",
        "    newNode = Node(arr[i])\n",
        "    tail.next = newNode\n",
        "    tail = newNode\n",
        "  return head\n",
        "\n",
        "def printLinkedList(head):\n",
        "  temp = head\n",
        "  while temp != None:\n",
        "    if temp.next != None:\n",
        "      print(temp.elem, end = '-->')\n",
        "    else:\n",
        "      print(temp.elem)\n",
        "    temp = temp.next\n",
        "  print()\n"
      ]
    },
    {
      "attachments": {},
      "cell_type": "markdown",
      "metadata": {
        "id": "Clj0DClwgJZK"
      },
      "source": [
        "Assemble Conga Line"
      ]
    },
    {
      "cell_type": "code",
      "execution_count": null,
      "metadata": {
        "colab": {
          "base_uri": "https://localhost:8080/"
        },
        "id": "H4BQrUJn9XLs",
        "outputId": "ec985f68-7980-4491-ced5-ad9ae2d94120"
      },
      "outputs": [
        {
          "name": "stdout",
          "output_type": "stream",
          "text": [
            "Original Conga Line:  10-->15-->34-->41-->56-->72\n",
            "\n",
            "True\n",
            "Accepted\n",
            "\n",
            "Original Conga Line:  10-->15-->44-->41-->56-->72\n",
            "\n",
            "False\n",
            "Accepted\n",
            "\n"
          ]
        }
      ],
      "source": [
        "def conga_line(head):\n",
        "  h = head\n",
        "  flag = True\n",
        "  while h.next != None:\n",
        "    if h.elem > h.next.elem:\n",
        "      flag = False\n",
        "      break\n",
        "    h = h.next\n",
        "  return flag\n",
        "\n",
        "\n",
        "head = createList(np.array([10,15,34,41,56,72]))\n",
        "print('Original Conga Line: ', end = ' ')\n",
        "printLinkedList(head)\n",
        "returned_value = conga_line(head)\n",
        "print(returned_value) #This should print True\n",
        "unittest.output_test(returned_value, True)\n",
        "print()\n",
        "\n",
        "head = createList(np.array([10,15,44,41,56,72]))\n",
        "print('Original Conga Line: ', end = ' ')\n",
        "printLinkedList(head)\n",
        "returned_value = conga_line(head)\n",
        "print(returned_value) #This should print False\n",
        "unittest.output_test(returned_value, False)\n",
        "print()\n",
        "\n",
        "\n"
      ]
    },
    {
      "attachments": {},
      "cell_type": "markdown",
      "metadata": {
        "id": "V9rtJF9VPAtd"
      },
      "source": [
        "Remove Compartment"
      ]
    },
    {
      "cell_type": "code",
      "execution_count": 14,
      "metadata": {
        "colab": {
          "base_uri": "https://localhost:8080/"
        },
        "id": "xttcJVbJ9id1",
        "outputId": "cd3e66c4-34bf-4a42-9a03-d832dea4565c"
      },
      "outputs": [
        {
          "name": "stdout",
          "output_type": "stream",
          "text": [
            "Original Compartment Sequence:  10-->15-->34-->41-->56-->72\n",
            "\n",
            "Changed Compartment Sequence:  10-->15-->34-->41-->72\n",
            "\n",
            "\n",
            "Original Compartment Sequence:  10-->15-->34-->41-->56-->72\n",
            "\n",
            "Changed Compartment Sequence:  10-->15-->34-->41-->56-->72\n",
            "\n",
            "\n",
            "Original Compartment Sequence:  10-->15-->34-->41-->56-->72\n",
            "\n",
            "Changed Compartment Sequence:  15-->34-->41-->56-->72\n",
            "\n",
            "\n"
          ]
        }
      ],
      "source": [
        "def size(head):\n",
        "  h = head\n",
        "  count= 1\n",
        "  while h.next != None:\n",
        "    count += 1\n",
        "    h = h.next\n",
        "  return count\n",
        "def remove_compartment(head,n):\n",
        "  h = head\n",
        "  length = size(head)\n",
        "  if n < length:\n",
        "    for i in range(length-n-1):\n",
        "      h = h.next\n",
        "    h.next = h.next.next\n",
        "  elif n == length:\n",
        "    head = head.next\n",
        "\n",
        "  return head\n",
        "\n",
        "\n",
        "\n",
        "head = createList(np.array([10,15,34,41,56,72]))\n",
        "print('Original Compartment Sequence: ', end = ' ')\n",
        "printLinkedList(head)\n",
        "head = remove_compartment(head,2)\n",
        "print('Changed Compartment Sequence: ', end = ' ')\n",
        "printLinkedList(head) #This should print 10-->15-->34-->41-->72\n",
        "print()\n",
        "\n",
        "head = createList(np.array([10,15,34,41,56,72]))\n",
        "print('Original Compartment Sequence: ', end = ' ')\n",
        "printLinkedList(head)\n",
        "head = remove_compartment(head,7)\n",
        "print('Changed Compartment Sequence: ', end = ' ')\n",
        "printLinkedList(head) #This should print 10-->15-->34-->41-->56-->72\n",
        "print()\n",
        "\n",
        "head = createList(np.array([10,15,34,41,56,72]))\n",
        "print('Original Compartment Sequence: ', end = ' ')\n",
        "printLinkedList(head)\n",
        "head = remove_compartment(head,6)\n",
        "print('Changed Compartment Sequence: ', end = ' ')\n",
        "printLinkedList(head) #This should print 15-->34-->41-->56-->72\n",
        "print()"
      ]
    },
    {
      "attachments": {},
      "cell_type": "markdown",
      "metadata": {
        "id": "hiH6KfWC8p9E"
      },
      "source": [
        "Shuffle on index"
      ]
    },
    {
      "cell_type": "code",
      "execution_count": 30,
      "metadata": {
        "colab": {
          "base_uri": "https://localhost:8080/"
        },
        "id": "Thnea8ygHaWe",
        "outputId": "1212c5c2-71ed-410b-995d-fa74418dc4cb"
      },
      "outputs": [
        {
          "name": "stdout",
          "output_type": "stream",
          "text": [
            "Original Play List:  S-->E-->N-->P-->A-->I\n",
            "\n",
            "New Play List:  S-->N-->A-->E-->P-->I\n",
            "\n",
            "\n",
            "Original Play List:  N-->I-->S-->H-->I-->N-->O-->Y-->A\n",
            "\n",
            "New Play List:  N-->S-->I-->O-->A-->I-->H-->N-->Y\n",
            "\n",
            "\n"
          ]
        }
      ],
      "source": [
        "def shuffle_on_index(head):\n",
        "  h = head\n",
        "  even = Node(h.elem)\n",
        "  evenHead = even\n",
        "  odd = Node(h.next.elem)\n",
        "  oddHead = odd\n",
        "  h = h.next.next\n",
        "  i = 2\n",
        "  while h != None:\n",
        "    if i % 2 == 0:\n",
        "      even.next = Node(h.elem)\n",
        "      even = even.next\n",
        "    else:\n",
        "      odd.next = Node(h.elem)\n",
        "      odd = odd.next\n",
        "    h = h.next\n",
        "    i += 1\n",
        "  even.next = oddHead\n",
        "  return evenHead\n",
        "head = createList(np.array(['S','E','N','P','A','I']))\n",
        "print('Original Play List: ', end = ' ')\n",
        "printLinkedList(head)\n",
        "newhead =  shuffle_on_index(head)\n",
        "print('New Play List: ', end = ' ')\n",
        "printLinkedList(newhead) #This should print S-->N-->A-->E-->P-->I\n",
        "print()\n",
        "\n",
        "head = createList(np.array(['N','I','S','H','I','N','O','Y','A']))\n",
        "print('Original Play List: ', end = ' ')\n",
        "printLinkedList(head)\n",
        "newhead =  shuffle_on_index(head)\n",
        "print('New Play List: ', end = ' ')\n",
        "printLinkedList(newhead) #This should print N-->S-->I-->O-->A-->I-->H-->N-->Y\n",
        "print()"
      ]
    },
    {
      "attachments": {},
      "cell_type": "markdown",
      "metadata": {
        "id": "hoDltlzi-GJD"
      },
      "source": [
        "Scavenger hunt"
      ]
    },
    {
      "cell_type": "code",
      "execution_count": null,
      "metadata": {
        "colab": {
          "base_uri": "https://localhost:8080/"
        },
        "id": "FbGrR6QI9Hjv",
        "outputId": "7e53f24c-1c8f-4b32-eb05-995ebe7791b8"
      },
      "outputs": [
        {
          "name": "stdout",
          "output_type": "stream",
          "text": [
            "Given Clue List:  7-->85-->54-->16-->11-->30\n",
            "\n",
            "85 is greater than 7\n",
            "No next element is greater than 85\n",
            "No next element is greater than 54\n",
            "30 is greater than 16\n",
            "30 is greater than 11\n",
            "No next element is greater than 30\n",
            "\n",
            "Given Clue List:  20-->13-->33-->12\n",
            "\n",
            "33 is greater than 20\n",
            "33 is greater than 13\n",
            "No next element is greater than 33\n",
            "No next element is greater than 12\n",
            "\n"
          ]
        }
      ],
      "source": [
        "def find_next_clue(head):\n",
        "  traverse = head\n",
        "  while traverse.next != None:\n",
        "    h = traverse\n",
        "    flag = True\n",
        "    while h.next != None:\n",
        "      if h.next.elem > traverse.elem:\n",
        "        flag = False\n",
        "        print(f\"{h.next.elem} is greater than {traverse.elem}\")\n",
        "        break\n",
        "      h = h.next\n",
        "    if flag == True:\n",
        "      print(f\"No next element is greater than {traverse.elem}\")\n",
        "    traverse = traverse.next\n",
        "  print(f\"No next element is greater than {traverse.elem}\")\n",
        "\n",
        "\n",
        "head = createList(np.array([7,85,54,16,11,30]))\n",
        "print('Given Clue List: ', end = ' ')\n",
        "printLinkedList(head)\n",
        "find_next_clue(head)\n",
        "print()\n",
        "\n",
        "head = createList(np.array([20,13,33,12]))\n",
        "print('Given Clue List: ', end = ' ')\n",
        "printLinkedList(head)\n",
        "find_next_clue(head)\n",
        "print()"
      ]
    }
  ],
  "metadata": {
    "colab": {
      "provenance": []
    },
    "kernelspec": {
      "display_name": "Python 3",
      "name": "python3"
    },
    "language_info": {
      "codemirror_mode": {
        "name": "ipython",
        "version": 3
      },
      "file_extension": ".py",
      "mimetype": "text/x-python",
      "name": "python",
      "nbconvert_exporter": "python",
      "pygments_lexer": "ipython3",
      "version": "3.11.3"
    }
  },
  "nbformat": 4,
  "nbformat_minor": 0
}
